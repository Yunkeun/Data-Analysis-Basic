{
 "cells": [
  {
   "cell_type": "markdown",
   "metadata": {},
   "source": [
    "# Titanic 데이터 분석"
   ]
  },
  {
   "cell_type": "code",
   "execution_count": 95,
   "metadata": {},
   "outputs": [],
   "source": [
    "# 아래의 데이터를 사용\n",
    "import seaborn as sns\n",
    "import pandas as pd\n",
    "import numpy as np\n",
    "# seaborn 에서 데이터 로드를 위한 코드\n",
    "titanic = sns.load_dataset('titanic')"
   ]
  },
  {
   "cell_type": "markdown",
   "metadata": {},
   "source": [
    "# 데이터 정보 확인"
   ]
  },
  {
   "cell_type": "code",
   "execution_count": 96,
   "metadata": {},
   "outputs": [
    {
     "data": {
      "text/html": [
       "<div>\n",
       "<style scoped>\n",
       "    .dataframe tbody tr th:only-of-type {\n",
       "        vertical-align: middle;\n",
       "    }\n",
       "\n",
       "    .dataframe tbody tr th {\n",
       "        vertical-align: top;\n",
       "    }\n",
       "\n",
       "    .dataframe thead th {\n",
       "        text-align: right;\n",
       "    }\n",
       "</style>\n",
       "<table border=\"1\" class=\"dataframe\">\n",
       "  <thead>\n",
       "    <tr style=\"text-align: right;\">\n",
       "      <th></th>\n",
       "      <th>survived</th>\n",
       "      <th>pclass</th>\n",
       "      <th>sex</th>\n",
       "      <th>age</th>\n",
       "      <th>sibsp</th>\n",
       "      <th>parch</th>\n",
       "      <th>fare</th>\n",
       "      <th>embarked</th>\n",
       "      <th>class</th>\n",
       "      <th>who</th>\n",
       "      <th>adult_male</th>\n",
       "      <th>deck</th>\n",
       "      <th>embark_town</th>\n",
       "      <th>alive</th>\n",
       "      <th>alone</th>\n",
       "    </tr>\n",
       "  </thead>\n",
       "  <tbody>\n",
       "    <tr>\n",
       "      <th>0</th>\n",
       "      <td>0</td>\n",
       "      <td>3</td>\n",
       "      <td>male</td>\n",
       "      <td>22.0</td>\n",
       "      <td>1</td>\n",
       "      <td>0</td>\n",
       "      <td>7.2500</td>\n",
       "      <td>S</td>\n",
       "      <td>Third</td>\n",
       "      <td>man</td>\n",
       "      <td>True</td>\n",
       "      <td>NaN</td>\n",
       "      <td>Southampton</td>\n",
       "      <td>no</td>\n",
       "      <td>False</td>\n",
       "    </tr>\n",
       "    <tr>\n",
       "      <th>1</th>\n",
       "      <td>1</td>\n",
       "      <td>1</td>\n",
       "      <td>female</td>\n",
       "      <td>38.0</td>\n",
       "      <td>1</td>\n",
       "      <td>0</td>\n",
       "      <td>71.2833</td>\n",
       "      <td>C</td>\n",
       "      <td>First</td>\n",
       "      <td>woman</td>\n",
       "      <td>False</td>\n",
       "      <td>C</td>\n",
       "      <td>Cherbourg</td>\n",
       "      <td>yes</td>\n",
       "      <td>False</td>\n",
       "    </tr>\n",
       "    <tr>\n",
       "      <th>2</th>\n",
       "      <td>1</td>\n",
       "      <td>3</td>\n",
       "      <td>female</td>\n",
       "      <td>26.0</td>\n",
       "      <td>0</td>\n",
       "      <td>0</td>\n",
       "      <td>7.9250</td>\n",
       "      <td>S</td>\n",
       "      <td>Third</td>\n",
       "      <td>woman</td>\n",
       "      <td>False</td>\n",
       "      <td>NaN</td>\n",
       "      <td>Southampton</td>\n",
       "      <td>yes</td>\n",
       "      <td>True</td>\n",
       "    </tr>\n",
       "    <tr>\n",
       "      <th>3</th>\n",
       "      <td>1</td>\n",
       "      <td>1</td>\n",
       "      <td>female</td>\n",
       "      <td>35.0</td>\n",
       "      <td>1</td>\n",
       "      <td>0</td>\n",
       "      <td>53.1000</td>\n",
       "      <td>S</td>\n",
       "      <td>First</td>\n",
       "      <td>woman</td>\n",
       "      <td>False</td>\n",
       "      <td>C</td>\n",
       "      <td>Southampton</td>\n",
       "      <td>yes</td>\n",
       "      <td>False</td>\n",
       "    </tr>\n",
       "    <tr>\n",
       "      <th>4</th>\n",
       "      <td>0</td>\n",
       "      <td>3</td>\n",
       "      <td>male</td>\n",
       "      <td>35.0</td>\n",
       "      <td>0</td>\n",
       "      <td>0</td>\n",
       "      <td>8.0500</td>\n",
       "      <td>S</td>\n",
       "      <td>Third</td>\n",
       "      <td>man</td>\n",
       "      <td>True</td>\n",
       "      <td>NaN</td>\n",
       "      <td>Southampton</td>\n",
       "      <td>no</td>\n",
       "      <td>True</td>\n",
       "    </tr>\n",
       "  </tbody>\n",
       "</table>\n",
       "</div>"
      ],
      "text/plain": [
       "   survived  pclass     sex   age  sibsp  parch     fare embarked  class  \\\n",
       "0         0       3    male  22.0      1      0   7.2500        S  Third   \n",
       "1         1       1  female  38.0      1      0  71.2833        C  First   \n",
       "2         1       3  female  26.0      0      0   7.9250        S  Third   \n",
       "3         1       1  female  35.0      1      0  53.1000        S  First   \n",
       "4         0       3    male  35.0      0      0   8.0500        S  Third   \n",
       "\n",
       "     who  adult_male deck  embark_town alive  alone  \n",
       "0    man        True  NaN  Southampton    no  False  \n",
       "1  woman       False    C    Cherbourg   yes  False  \n",
       "2  woman       False  NaN  Southampton   yes   True  \n",
       "3  woman       False    C  Southampton   yes  False  \n",
       "4    man        True  NaN  Southampton    no   True  "
      ]
     },
     "execution_count": 96,
     "metadata": {},
     "output_type": "execute_result"
    }
   ],
   "source": [
    "# head()를 이용하여 어떤 형태의 데이터로 테이블이 이루어져 있는지 확인한다.\n",
    "\n",
    "titanic.head()"
   ]
  },
  {
   "cell_type": "markdown",
   "metadata": {},
   "source": [
    "### column description\n",
    "\n",
    "- survived 생존 여부 : 0 = 사망, 1 = 생존\n",
    "- pclass : 티켓의 선실 등급 : 1 = 일등석, 2 = 이등석, 3 = 삼등석\n",
    "- sex : 탑승자 성별\n",
    "- age : 탑승자 나이\n",
    "- sibsp : 같이 탑승한 형제자매 또는 배우자 인원수\n",
    "- parch : 같이 탑승한 부모님 또는 어린이 인원수\n",
    "- fare : 요금\n",
    "- embarked : 중간 정착 항구 C = Cherbourg, Q = Queenstown, S = Southampton\n",
    "- class : 선실 등급\n",
    "- who : 탑승자 성별\n",
    "- deck: 데크\n",
    "- embark_town: 탑승 항구\n",
    "- alive: 생존여부\n",
    "- alone: 혼자인지 여부"
   ]
  },
  {
   "cell_type": "code",
   "execution_count": 97,
   "metadata": {},
   "outputs": [
    {
     "name": "stdout",
     "output_type": "stream",
     "text": [
      "<class 'pandas.core.frame.DataFrame'>\n",
      "RangeIndex: 891 entries, 0 to 890\n",
      "Data columns (total 15 columns):\n",
      " #   Column       Non-Null Count  Dtype   \n",
      "---  ------       --------------  -----   \n",
      " 0   survived     891 non-null    int64   \n",
      " 1   pclass       891 non-null    int64   \n",
      " 2   sex          891 non-null    object  \n",
      " 3   age          714 non-null    float64 \n",
      " 4   sibsp        891 non-null    int64   \n",
      " 5   parch        891 non-null    int64   \n",
      " 6   fare         891 non-null    float64 \n",
      " 7   embarked     889 non-null    object  \n",
      " 8   class        891 non-null    category\n",
      " 9   who          891 non-null    object  \n",
      " 10  adult_male   891 non-null    bool    \n",
      " 11  deck         203 non-null    category\n",
      " 12  embark_town  889 non-null    object  \n",
      " 13  alive        891 non-null    object  \n",
      " 14  alone        891 non-null    bool    \n",
      "dtypes: bool(2), category(2), float64(2), int64(4), object(5)\n",
      "memory usage: 80.6+ KB\n"
     ]
    }
   ],
   "source": [
    "# info()를 이용하여 데이터 프레임의 기본 정보를 확인한다.\n",
    "\n",
    "titanic.info()"
   ]
  },
  {
   "cell_type": "code",
   "execution_count": 98,
   "metadata": {
    "scrolled": true
   },
   "outputs": [
    {
     "data": {
      "text/plain": [
       "survived         0\n",
       "pclass           0\n",
       "sex              0\n",
       "age            177\n",
       "sibsp            0\n",
       "parch            0\n",
       "fare             0\n",
       "embarked         2\n",
       "class            0\n",
       "who              0\n",
       "adult_male       0\n",
       "deck           688\n",
       "embark_town      2\n",
       "alive            0\n",
       "alone            0\n",
       "dtype: int64"
      ]
     },
     "execution_count": 98,
     "metadata": {},
     "output_type": "execute_result"
    }
   ],
   "source": [
    "titanic.isnull().sum()\n",
    "\n",
    "# deck에 결측치가 많으므로 오차가 날 확률이 높아 분석에서 제외한다."
   ]
  },
  {
   "cell_type": "code",
   "execution_count": 99,
   "metadata": {},
   "outputs": [
    {
     "data": {
      "text/plain": [
       "0      22.000000\n",
       "1      38.000000\n",
       "2      26.000000\n",
       "3      35.000000\n",
       "4      35.000000\n",
       "         ...    \n",
       "886    27.000000\n",
       "887    19.000000\n",
       "888    29.699118\n",
       "889    26.000000\n",
       "890    32.000000\n",
       "Name: age, Length: 891, dtype: float64"
      ]
     },
     "execution_count": 99,
     "metadata": {},
     "output_type": "execute_result"
    }
   ],
   "source": [
    "# age의 경우 생존율 분석에서 중요한 부분을 차지할 수 있으므로 결측값을 평균값으로 대체한다.\n",
    "\n",
    "titanic['age'].fillna(titanic['age'].mean())"
   ]
  },
  {
   "cell_type": "markdown",
   "metadata": {},
   "source": [
    "# 생존율 분석 - survived와 다른 column의 상관관계 분석 \n",
    "\n",
    "## 1. 티켓 등급별 생존율 분석 (pclass)\n",
    "## 2. 같이 탑승한 부모님 또는 어린이 인원수에 따른 생존율 분석 (parch)\n",
    "## 3. 나이에 따른 생존율 분석 (age)\n",
    "## 4. 혼자인 남여의 생존율 분석 (alone, sex)\n",
    "## 5. 선실등급과 나이에 따른 생존율 분석 (class, age) "
   ]
  },
  {
   "cell_type": "code",
   "execution_count": 100,
   "metadata": {},
   "outputs": [],
   "source": [
    "# 막대그래프를 보다 쉽게 사용하고 파악할 수 있게 함수화를 하였다.\n",
    "# 기존의 0, 1이 아닌 survived와 dead로 하여 가독성을 좋게 하였다.\n",
    "def bar_chart(feature) :\n",
    "    survived = titanic[titanic['survived']==1][feature].value_counts()/891*100\n",
    "    dead = titanic[titanic['survived']==0][feature].value_counts()/891*100\n",
    "    df=pd.DataFrame([survived, dead])\n",
    "    df.index = ['survived', 'dead']\n",
    "    df.plot(kind='bar', rot=0)"
   ]
  },
  {
   "cell_type": "markdown",
   "metadata": {},
   "source": [
    "## 1. 티켓 등급별 생존율 분석\n",
    "\n",
    "티켓 등급별 생존율 분석을 위해 티켓 등급별 전체 승객에 대한 사망율을 알아보고 각 등급별 승객 수에 대한 생존 비율을 알아본다.\n",
    "\n",
    "pclass에 따른 생존 비율을 알아보기 위해 count를 해준 후 전체 승객인 891로 나누어준 후 100을 곱하였다."
   ]
  },
  {
   "cell_type": "code",
   "execution_count": 101,
   "metadata": {},
   "outputs": [
    {
     "data": {
      "text/plain": [
       "pclass  survived\n",
       "1       0            8.978676\n",
       "        1           15.263749\n",
       "2       0           10.886644\n",
       "        1            9.764310\n",
       "3       0           41.750842\n",
       "        1           13.355780\n",
       "Name: survived, dtype: float64"
      ]
     },
     "execution_count": 101,
     "metadata": {},
     "output_type": "execute_result"
    }
   ],
   "source": [
    "pclass_survived_percent = titanic.groupby(['pclass','survived'])['survived'].count()/891*100\n",
    "pclass_survived_percent"
   ]
  },
  {
   "cell_type": "markdown",
   "metadata": {},
   "source": [
    "막대 그래프로 나타내면 다음과 같다."
   ]
  },
  {
   "cell_type": "code",
   "execution_count": 102,
   "metadata": {},
   "outputs": [
    {
     "data": {
      "image/png": "[encoded data removed]",
      "text/plain": [
       "<Figure size 432x288 with 1 Axes>"
      ]
     },
     "metadata": {
      "needs_background": "light"
     },
     "output_type": "display_data"
    }
   ],
   "source": [
    "bar_chart('pclass')"
   ]
  },
  {
   "cell_type": "markdown",
   "metadata": {},
   "source": [
    "티켓 등급이 3등급인 승객 중 사망한 사람이 전체의 약 42%로 가장 높은 수치를 기록했다."
   ]
  },
  {
   "cell_type": "code",
   "execution_count": 103,
   "metadata": {},
   "outputs": [
    {
     "data": {
      "text/plain": [
       "62.96296296296296"
      ]
     },
     "execution_count": 103,
     "metadata": {},
     "output_type": "execute_result"
    }
   ],
   "source": [
    "# 1등급의 생존 비율 = 전체에 대한 1등급 생존율 / (전체에 대한 1등급 생존율 + 전체에 대한 1등급 사망율)\n",
    "pclass_survived_percent[1][1] / (pclass_survived_percent[1][0] + pclass_survived_percent[1][1]) * 100"
   ]
  },
  {
   "cell_type": "code",
   "execution_count": 104,
   "metadata": {},
   "outputs": [
    {
     "data": {
      "text/plain": [
       "47.28260869565217"
      ]
     },
     "execution_count": 104,
     "metadata": {},
     "output_type": "execute_result"
    }
   ],
   "source": [
    "# 2등급의 생존 비율 = 전체에 대한 2등급 생존율 / (전체에 대한 2등급 생존율 + 전체에 대한 2등급 사망율)\n",
    "pclass_survived_percent[2][1] / (pclass_survived_percent[2][0] + pclass_survived_percent[2][1]) * 100"
   ]
  },
  {
   "cell_type": "code",
   "execution_count": 105,
   "metadata": {},
   "outputs": [
    {
     "data": {
      "text/plain": [
       "24.23625254582485"
      ]
     },
     "execution_count": 105,
     "metadata": {},
     "output_type": "execute_result"
    }
   ],
   "source": [
    "# 3등급의 생존 비율 = 전체에 대한 3등급 생존율 / (전체에 대한 3등급 생존율 + 전체에 대한 3등급 사망율)\n",
    "pclass_survived_percent[3][1] / (pclass_survived_percent[3][0] + pclass_survived_percent[3][1]) * 100"
   ]
  },
  {
   "cell_type": "markdown",
   "metadata": {},
   "source": [
    "등급에 따른 생존율은 다음과 같다.\n",
    "- 1등급 : 약 63.0%\n",
    "- 2등급 : 약 47.3%\n",
    "- 3등급 : 약 24.2%\n",
    "\n",
    "## 즉, 티켓 등급이 높을수록 생존율이 높아진다는 것을 알 수 있다."
   ]
  },
  {
   "cell_type": "markdown",
   "metadata": {},
   "source": [
    "## 2. 같이 탑승한 부모님 또는 어린이 인원수에 따른 생존율 분석\n",
    "\n",
    "먼저 전체 승객에 대해서 같이 탑승한 부모님 또는 어린이 인원수에 따른 생존, 사망 비율을 알아본다."
   ]
  },
  {
   "cell_type": "code",
   "execution_count": 106,
   "metadata": {},
   "outputs": [
    {
     "data": {
      "text/plain": [
       "parch  survived\n",
       "0      0           49.943883\n",
       "       1           26.150393\n",
       "1      0            5.948373\n",
       "       1            7.295174\n",
       "2      0            4.489338\n",
       "       1            4.489338\n",
       "3      0            0.224467\n",
       "       1            0.336700\n",
       "4      0            0.448934\n",
       "5      0            0.448934\n",
       "       1            0.112233\n",
       "6      0            0.112233\n",
       "Name: survived, dtype: float64"
      ]
     },
     "execution_count": 106,
     "metadata": {},
     "output_type": "execute_result"
    }
   ],
   "source": [
    "parch_survived_percent = titanic.groupby(['parch','survived'])['survived'].count()/891*100\n",
    "parch_survived_percent"
   ]
  },
  {
   "cell_type": "markdown",
   "metadata": {},
   "source": [
    "표로 볼 때, parch 수가 0인 비율이 전체에 대해 절반 이상임을 알 수 있다. 전체 인원에 대한 parch의 비율을 알아보자."
   ]
  },
  {
   "cell_type": "code",
   "execution_count": 107,
   "metadata": {},
   "outputs": [
    {
     "data": {
      "text/plain": [
       "parch\n",
       "0    76.094276\n",
       "1    13.243547\n",
       "2     8.978676\n",
       "3     0.561167\n",
       "4     0.448934\n",
       "5     0.561167\n",
       "6     0.112233\n",
       "Name: survived, dtype: float64"
      ]
     },
     "execution_count": 107,
     "metadata": {},
     "output_type": "execute_result"
    }
   ],
   "source": [
    "parch_percent = titanic.groupby(['parch'])['survived'].count()/891*100\n",
    "parch_percent"
   ]
  },
  {
   "cell_type": "markdown",
   "metadata": {},
   "source": [
    "parch가 0인 비율이 전체의 76퍼센트임으로 parch에 대한 값을 boolean으로 나누는게 좋을 것 같다고 생각한다."
   ]
  },
  {
   "cell_type": "code",
   "execution_count": 108,
   "metadata": {},
   "outputs": [
    {
     "name": "stderr",
     "output_type": "stream",
     "text": [
      "<ipython-input-108-4b2d5cd3f981>:6: SettingWithCopyWarning: \n",
      "A value is trying to be set on a copy of a slice from a DataFrame\n",
      "\n",
      "See the caveats in the documentation: https://pandas.pydata.org/pandas-docs/stable/user_guide/indexing.html#returning-a-view-versus-a-copy\n",
      "  titanic['parch'][n] = False\n",
      "C:\\Users\\SAMSUNG\\AppData\\Roaming\\Python\\Python38\\site-packages\\pandas\\core\\indexing.py:670: SettingWithCopyWarning: \n",
      "A value is trying to be set on a copy of a slice from a DataFrame\n",
      "\n",
      "See the caveats in the documentation: https://pandas.pydata.org/pandas-docs/stable/user_guide/indexing.html#returning-a-view-versus-a-copy\n",
      "  iloc._setitem_with_indexer(indexer, value)\n",
      "<ipython-input-108-4b2d5cd3f981>:4: SettingWithCopyWarning: \n",
      "A value is trying to be set on a copy of a slice from a DataFrame\n",
      "\n",
      "See the caveats in the documentation: https://pandas.pydata.org/pandas-docs/stable/user_guide/indexing.html#returning-a-view-versus-a-copy\n",
      "  titanic['parch'][n] = True\n"
     ]
    }
   ],
   "source": [
    "n = 0\n",
    "for i in titanic['parch']:\n",
    "    if i > 0:\n",
    "        titanic['parch'][n] = True\n",
    "    else:\n",
    "        titanic['parch'][n] = False\n",
    "    n = n+1"
   ]
  },
  {
   "cell_type": "code",
   "execution_count": 109,
   "metadata": {},
   "outputs": [
    {
     "data": {
      "text/plain": [
       "parch  survived\n",
       "False  0           49.943883\n",
       "       1           26.150393\n",
       "True   0           11.672278\n",
       "       1           12.233446\n",
       "Name: survived, dtype: float64"
      ]
     },
     "execution_count": 109,
     "metadata": {},
     "output_type": "execute_result"
    }
   ],
   "source": [
    "titanic.groupby(['parch','survived'])['survived'].count()/891*100"
   ]
  },
  {
   "cell_type": "code",
   "execution_count": 110,
   "metadata": {},
   "outputs": [
    {
     "data": {
      "image/png": "[encoded data removed]",
      "text/plain": [
       "<Figure size 432x288 with 1 Axes>"
      ]
     },
     "metadata": {
      "needs_background": "light"
     },
     "output_type": "display_data"
    }
   ],
   "source": [
    "bar_chart('parch')"
   ]
  },
  {
   "cell_type": "markdown",
   "metadata": {},
   "source": [
    "## 분석 결과 \n",
    "- 전체 승객의 약 76.1%는 parch없이 온 승객이다.\n",
    "- parch 수가 0인 승객은 전체 승객에 대해 사망 비율이 약 49.9%로 parch 수가 0의 생존 비율인 26.2%에 비해 약 1.9배 높은 사망율을 기록했다.\n",
    "- parch 수가 True, 즉 1이상인 승객은 전체의 약 24%로 이들에 대한 사망율과 생존율은 거의 차이가 없다."
   ]
  },
  {
   "cell_type": "markdown",
   "metadata": {},
   "source": [
    "## 3. 나이에 따른 생존율 분석\n",
    "\n",
    "먼저 전체 승객에 대해서 나이에 따른 생존, 사망 비율을 알아본다."
   ]
  },
  {
   "cell_type": "code",
   "execution_count": 111,
   "metadata": {},
   "outputs": [
    {
     "data": {
      "text/plain": [
       "age    survived\n",
       "0.42   1           0.112233\n",
       "0.67   1           0.112233\n",
       "0.75   1           0.224467\n",
       "0.83   1           0.224467\n",
       "0.92   1           0.112233\n",
       "                     ...   \n",
       "70.00  0           0.224467\n",
       "70.50  0           0.112233\n",
       "71.00  0           0.224467\n",
       "74.00  0           0.112233\n",
       "80.00  1           0.112233\n",
       "Name: survived, Length: 142, dtype: float64"
      ]
     },
     "execution_count": 111,
     "metadata": {},
     "output_type": "execute_result"
    }
   ],
   "source": [
    "age_survived_percent = titanic.groupby(['age','survived'])['survived'].count()/891*100\n",
    "age_survived_percent"
   ]
  },
  {
   "cell_type": "markdown",
   "metadata": {},
   "source": [
    "나이가 소숫점 둘째 자리까지 나타나있고, 최소 0.42세 부터 최대 80세까지 다양하게 있다.\n",
    "연령대 별로 분포를 알아보기 위해 10 단위로 끊어서 다시 나타내 본다."
   ]
  },
  {
   "cell_type": "code",
   "execution_count": 112,
   "metadata": {},
   "outputs": [
    {
     "name": "stderr",
     "output_type": "stream",
     "text": [
      "<ipython-input-112-8a94853c6788>:3: SettingWithCopyWarning: \n",
      "A value is trying to be set on a copy of a slice from a DataFrame\n",
      "\n",
      "See the caveats in the documentation: https://pandas.pydata.org/pandas-docs/stable/user_guide/indexing.html#returning-a-view-versus-a-copy\n",
      "  titanic['age'][n] = i - i%10\n"
     ]
    }
   ],
   "source": [
    "n = 0\n",
    "for i in titanic['age']:\n",
    "    titanic['age'][n] = i - i%10\n",
    "    n = n + 1"
   ]
  },
  {
   "cell_type": "markdown",
   "metadata": {},
   "source": [
    "연령대별 전체 승객의 분포는 다음과 같다."
   ]
  },
  {
   "cell_type": "code",
   "execution_count": 113,
   "metadata": {},
   "outputs": [
    {
     "data": {
      "text/plain": [
       "age\n",
       "0.0      6.958474\n",
       "10.0    11.447811\n",
       "20.0    24.691358\n",
       "30.0    18.742985\n",
       "40.0     9.988777\n",
       "50.0     5.387205\n",
       "60.0     2.132435\n",
       "70.0     0.673401\n",
       "80.0     0.112233\n",
       "Name: survived, dtype: float64"
      ]
     },
     "execution_count": 113,
     "metadata": {},
     "output_type": "execute_result"
    }
   ],
   "source": [
    "age_percent = titanic.groupby(['age'])['survived'].count()/891*100\n",
    "age_percent"
   ]
  },
  {
   "cell_type": "markdown",
   "metadata": {},
   "source": [
    "60, 70, 80대가 가장 적으므로 그 셋을 하나로 묶어 'elder'라고 칭한다."
   ]
  },
  {
   "cell_type": "code",
   "execution_count": 114,
   "metadata": {},
   "outputs": [
    {
     "name": "stderr",
     "output_type": "stream",
     "text": [
      "<ipython-input-114-e1e9e6485742>:4: SettingWithCopyWarning: \n",
      "A value is trying to be set on a copy of a slice from a DataFrame\n",
      "\n",
      "See the caveats in the documentation: https://pandas.pydata.org/pandas-docs/stable/user_guide/indexing.html#returning-a-view-versus-a-copy\n",
      "  titanic['age'][n] = 'elder'\n",
      "C:\\Users\\SAMSUNG\\AppData\\Roaming\\Python\\Python38\\site-packages\\pandas\\core\\indexing.py:670: SettingWithCopyWarning: \n",
      "A value is trying to be set on a copy of a slice from a DataFrame\n",
      "\n",
      "See the caveats in the documentation: https://pandas.pydata.org/pandas-docs/stable/user_guide/indexing.html#returning-a-view-versus-a-copy\n",
      "  iloc._setitem_with_indexer(indexer, value)\n"
     ]
    }
   ],
   "source": [
    "n = 0\n",
    "for i in titanic['age']:\n",
    "    if i >= 60:\n",
    "        titanic['age'][n] = 'elder'\n",
    "    n = n + 1"
   ]
  },
  {
   "cell_type": "code",
   "execution_count": 115,
   "metadata": {},
   "outputs": [
    {
     "data": {
      "text/plain": [
       "age\n",
       "0.0       6.958474\n",
       "10.0     11.447811\n",
       "20.0     24.691358\n",
       "30.0     18.742985\n",
       "40.0      9.988777\n",
       "50.0      5.387205\n",
       "elder     2.918070\n",
       "Name: survived, dtype: float64"
      ]
     },
     "execution_count": 115,
     "metadata": {},
     "output_type": "execute_result"
    }
   ],
   "source": [
    "age_percent = titanic.groupby(['age'])['survived'].count()/891*100\n",
    "age_percent"
   ]
  },
  {
   "cell_type": "code",
   "execution_count": 116,
   "metadata": {},
   "outputs": [
    {
     "data": {
      "text/plain": [
       "<AxesSubplot:xlabel='age'>"
      ]
     },
     "execution_count": 116,
     "metadata": {},
     "output_type": "execute_result"
    },
    {
     "data": {
      "image/png": "[encoded data removed]",
      "text/plain": [
       "<Figure size 432x288 with 1 Axes>"
      ]
     },
     "metadata": {
      "needs_background": "light"
     },
     "output_type": "display_data"
    }
   ],
   "source": [
    "titanic.groupby(by=['age']).size().plot(kind='bar', rot=0)"
   ]
  },
  {
   "cell_type": "markdown",
   "metadata": {},
   "source": [
    "전체 승객에 대한 연령대별 생존, 사망 비율은 다음과 같다."
   ]
  },
  {
   "cell_type": "code",
   "execution_count": 117,
   "metadata": {},
   "outputs": [
    {
     "data": {
      "text/plain": [
       "age    survived\n",
       "0.0    0            2.693603\n",
       "       1            4.264871\n",
       "10.0   0            6.846240\n",
       "       1            4.601571\n",
       "20.0   0           16.049383\n",
       "       1            8.641975\n",
       "30.0   0           10.549944\n",
       "       1            8.193042\n",
       "40.0   0            6.172840\n",
       "       1            3.815937\n",
       "50.0   0            3.142536\n",
       "       1            2.244669\n",
       "elder  0            2.132435\n",
       "       1            0.785634\n",
       "Name: survived, dtype: float64"
      ]
     },
     "execution_count": 117,
     "metadata": {},
     "output_type": "execute_result"
    }
   ],
   "source": [
    "age_survived_percent = titanic.groupby(['age','survived'])['survived'].count()/891*100\n",
    "age_survived_percent"
   ]
  },
  {
   "cell_type": "code",
   "execution_count": 118,
   "metadata": {},
   "outputs": [
    {
     "data": {
      "image/png": "[encoded data removed]",
      "text/plain": [
       "<Figure size 432x288 with 1 Axes>"
      ]
     },
     "metadata": {
      "needs_background": "light"
     },
     "output_type": "display_data"
    }
   ],
   "source": [
    "bar_chart('age')"
   ]
  },
  {
   "cell_type": "markdown",
   "metadata": {},
   "source": [
    "두 그래프를 비교했을 때 특이한 점은 0-10살의 아이는 사망율 보다 생존율이 높다는 점이다.\n",
    "연령대 별로 생존, 사망 비율은 다음과 같다."
   ]
  },
  {
   "cell_type": "code",
   "execution_count": 119,
   "metadata": {},
   "outputs": [
    {
     "data": {
      "text/plain": [
       "61.290322580645174"
      ]
     },
     "execution_count": 119,
     "metadata": {},
     "output_type": "execute_result"
    }
   ],
   "source": [
    "# 0-10세 생존 비율 = 전체에 대한 0-10세의 생존율 / (전체에 대한 0-10세의 생존율 + 전체에 대한 0-10세의 사망율)\n",
    "age_survived_percent[1] / (age_survived_percent[0] + age_survived_percent[1]) * 100"
   ]
  },
  {
   "cell_type": "code",
   "execution_count": 120,
   "metadata": {},
   "outputs": [
    {
     "data": {
      "text/plain": [
       "40.196078431372555"
      ]
     },
     "execution_count": 120,
     "metadata": {},
     "output_type": "execute_result"
    }
   ],
   "source": [
    "# 10대의 생존 비율 = 전체에 대한 10대의 생존율 / (전체에 대한 10대의 생존율 + 전체에 대한 10대의 사망율)\n",
    "age_survived_percent[3] / (age_survived_percent[2] + age_survived_percent[3]) * 100"
   ]
  },
  {
   "cell_type": "code",
   "execution_count": 121,
   "metadata": {},
   "outputs": [
    {
     "data": {
      "text/plain": [
       "35.0"
      ]
     },
     "execution_count": 121,
     "metadata": {},
     "output_type": "execute_result"
    }
   ],
   "source": [
    "# 20대의 생존 비율 = 전체에 대한 20대의 생존율 / (전체에 대한 20대의 생존율 + 전체에 대한 20대의 사망율)\n",
    "age_survived_percent[5] / (age_survived_percent[4] + age_survived_percent[5]) * 100"
   ]
  },
  {
   "cell_type": "code",
   "execution_count": 122,
   "metadata": {},
   "outputs": [
    {
     "data": {
      "text/plain": [
       "43.7125748502994"
      ]
     },
     "execution_count": 122,
     "metadata": {},
     "output_type": "execute_result"
    }
   ],
   "source": [
    "# 30대의 생존 비율 = 전체에 대한 30대의 생존율 / (전체에 대한 30대의 생존율 + 전체에 대한 30대의 사망율)\n",
    "age_survived_percent[7] / (age_survived_percent[6] + age_survived_percent[7]) * 100"
   ]
  },
  {
   "cell_type": "code",
   "execution_count": 123,
   "metadata": {},
   "outputs": [
    {
     "data": {
      "text/plain": [
       "38.20224719101123"
      ]
     },
     "execution_count": 123,
     "metadata": {},
     "output_type": "execute_result"
    }
   ],
   "source": [
    "# 40대의 생존 비율 = 전체에 대한 40대의 생존율 / (전체에 대한 40대의 생존율 + 전체에 대한 40대의 사망율)\n",
    "age_survived_percent[9] / (age_survived_percent[8] + age_survived_percent[9]) * 100"
   ]
  },
  {
   "cell_type": "code",
   "execution_count": 124,
   "metadata": {},
   "outputs": [
    {
     "data": {
      "text/plain": [
       "41.666666666666664"
      ]
     },
     "execution_count": 124,
     "metadata": {},
     "output_type": "execute_result"
    }
   ],
   "source": [
    "# 50대의 생존 비율 = 전체에 대한 50대의 생존율 / (전체에 대한 50대의 생존율 + 전체에 대한 50대의 사망율)\n",
    "age_survived_percent[11] / (age_survived_percent[10] + age_survived_percent[11]) * 100"
   ]
  },
  {
   "cell_type": "code",
   "execution_count": 125,
   "metadata": {},
   "outputs": [
    {
     "data": {
      "text/plain": [
       "26.923076923076927"
      ]
     },
     "execution_count": 125,
     "metadata": {},
     "output_type": "execute_result"
    }
   ],
   "source": [
    "# 60대 이상(elder)의 생존 비율 = 전체에 대한 60대 이상의 생존율 / (전체에 대한 60대 이상의 생존율 + 전체에 대한 60대 이상의 사망율)\n",
    "age_survived_percent[13] / (age_survived_percent[12] + age_survived_percent[13]) * 100"
   ]
  },
  {
   "cell_type": "markdown",
   "metadata": {},
   "source": [
    "## 분석 결과\n",
    "- 승객의 연령대는 20대가 가장 많고 그 다음은 30대이다.\n",
    "- 0-10세의 아이의 생존율이 약 61.3%로 절반 이상이다. 이것을 통해 아이들을 먼저 구하고자 하는 승객들의 따듯한 마음이 전해진다.\n",
    "- 60대 이상의 노인의 생존율이 약 26.9%로 가장 적은 수치를 보인다.\n",
    "- 그 다음 낮은 수치가 20대의 생존율이다. 이것 역시 특이한 수치이다."
   ]
  },
  {
   "cell_type": "markdown",
   "metadata": {},
   "source": [
    "## 4. 혼자인 남여의 생존율 분석 (alone, sex)\n",
    "\n",
    "우선 전체에 대해서 alone의 유무에 따른 생존율은 다음과 같다."
   ]
  },
  {
   "cell_type": "code",
   "execution_count": 126,
   "metadata": {},
   "outputs": [
    {
     "data": {
      "text/plain": [
       "alone  survived\n",
       "False  0           19.640853\n",
       "       1           20.089787\n",
       "True   0           41.975309\n",
       "       1           18.294052\n",
       "Name: survived, dtype: float64"
      ]
     },
     "execution_count": 126,
     "metadata": {},
     "output_type": "execute_result"
    }
   ],
   "source": [
    "titanic.groupby(['alone','survived'])['survived'].count()/891*100"
   ]
  },
  {
   "cell_type": "code",
   "execution_count": 127,
   "metadata": {},
   "outputs": [
    {
     "data": {
      "image/png": "[encoded data removed]",
      "text/plain": [
       "<Figure size 432x288 with 1 Axes>"
      ]
     },
     "metadata": {
      "needs_background": "light"
     },
     "output_type": "display_data"
    }
   ],
   "source": [
    "bar_chart('alone')"
   ]
  },
  {
   "cell_type": "markdown",
   "metadata": {},
   "source": [
    "혼자일 때 사망율이 생존율보다 두 배 이상 높다. 하지만, 혼자가 아닐 때는 차이가 많지 않다.\n",
    "\n",
    "그렇다면 전체에 대해서 alone의 유무와 성별에 따른 생존율은 다음과 같다."
   ]
  },
  {
   "cell_type": "code",
   "execution_count": 128,
   "metadata": {},
   "outputs": [
    {
     "data": {
      "text/plain": [
       "alone  sex     survived\n",
       "False  female  0            6.060606\n",
       "               1           15.039282\n",
       "       male    0           13.580247\n",
       "               1            5.050505\n",
       "True   female  0            3.030303\n",
       "               1           11.111111\n",
       "       male    0           38.945006\n",
       "               1            7.182941\n",
       "Name: survived, dtype: float64"
      ]
     },
     "execution_count": 128,
     "metadata": {},
     "output_type": "execute_result"
    }
   ],
   "source": [
    "alone_sex_survived_percent = titanic.groupby(['alone','sex','survived'])['survived'].count()/891*100\n",
    "alone_sex_survived_percent"
   ]
  },
  {
   "cell_type": "code",
   "execution_count": 129,
   "metadata": {},
   "outputs": [
    {
     "data": {
      "text/plain": [
       "<AxesSubplot:xlabel='alone,sex'>"
      ]
     },
     "execution_count": 129,
     "metadata": {},
     "output_type": "execute_result"
    },
    {
     "data": {
      "image/png": "[encoded data removed]",
      "text/plain": [
       "<Figure size 432x288 with 1 Axes>"
      ]
     },
     "metadata": {
      "needs_background": "light"
     },
     "output_type": "display_data"
    }
   ],
   "source": [
    "titanic.groupby(by=['alone','sex']).size().plot(kind='bar', rot=0)"
   ]
  },
  {
   "cell_type": "markdown",
   "metadata": {},
   "source": [
    "성별로 다시 나누니 다음과 같은 특징이 나타난다.\n",
    "\n",
    "- alone이 아닌 여성의 경우 생존율이 사망율에 비해 두 배 이상이다.\n",
    "- alone이 아닌 남성의 경우 사망율이 생존율에 비해 두 배 이상이다.\n",
    "- alone인 여성의 경우는 생존율이 사망율에 비해 세 배 이상이다.\n",
    "- alone인 남성의 경우는 사망율이 생존율에 비해 다섯 배 이상이다.\n",
    "\n",
    "이것을 각각의 비율로 나타내면 다음과 같다."
   ]
  },
  {
   "cell_type": "code",
   "execution_count": 130,
   "metadata": {},
   "outputs": [
    {
     "data": {
      "text/plain": [
       "0.7127659574468085"
      ]
     },
     "execution_count": 130,
     "metadata": {},
     "output_type": "execute_result"
    }
   ],
   "source": [
    "# not alone 여성의 생존율 = 전체에 대한 not alone 여성의 생존율 / (전체에 대한 not alone 여성의 생존율 + 전체에 대한 not alone 여성의 사망율)\n",
    "alone_sex_survived_percent[0][1] / (alone_sex_survived_percent[0][1] + alone_sex_survived_percent[0][0])"
   ]
  },
  {
   "cell_type": "code",
   "execution_count": 131,
   "metadata": {},
   "outputs": [
    {
     "data": {
      "text/plain": [
       "0.2710843373493976"
      ]
     },
     "execution_count": 131,
     "metadata": {},
     "output_type": "execute_result"
    }
   ],
   "source": [
    "# not alone 남성의 생존율 = 전체에 대한 not alone 남성의 생존율 / (전체에 대한 not alone 남성의 생존율 + 전체에 대한 not alone 남성의 사망율)\n",
    "alone_sex_survived_percent[0][3] / (alone_sex_survived_percent[0][3] + alone_sex_survived_percent[0][2])"
   ]
  },
  {
   "cell_type": "code",
   "execution_count": 132,
   "metadata": {},
   "outputs": [
    {
     "data": {
      "text/plain": [
       "0.7857142857142857"
      ]
     },
     "execution_count": 132,
     "metadata": {},
     "output_type": "execute_result"
    }
   ],
   "source": [
    "# alone 여성의 생존율 = 전체에 대한 alone 여성의 생존율 / (전체에 대한 alone 여성의 생존율 + 전체에 대한 alone 여성의 사망율)\n",
    "alone_sex_survived_percent[1][1] / (alone_sex_survived_percent[1][1] + alone_sex_survived_percent[1][0])"
   ]
  },
  {
   "cell_type": "code",
   "execution_count": 133,
   "metadata": {},
   "outputs": [
    {
     "data": {
      "text/plain": [
       "0.15571776155717762"
      ]
     },
     "execution_count": 133,
     "metadata": {},
     "output_type": "execute_result"
    }
   ],
   "source": [
    "# alone 남성의 생존율 = 전체에 대한 alone 남성의 생존율 / (전체에 대한 alone 남성의 생존율 + 전체에 대한 alone 남성의 사망율)\n",
    "alone_sex_survived_percent[1][3] / (alone_sex_survived_percent[1][3] + alone_sex_survived_percent[1][2])"
   ]
  },
  {
   "cell_type": "markdown",
   "metadata": {},
   "source": [
    "여성의 경우 alone의 여부와 상관없이 항상 71% 이상의 높은 생존율을 보인다.\n",
    "\n",
    "하지만 남성의 경우 28% 이하의 생존율을 보이는데, alone일 경우가 약 15.6%로 상당히 낮은 생존율을 보인다."
   ]
  },
  {
   "cell_type": "markdown",
   "metadata": {},
   "source": [
    "## 분석 결과\n",
    "\n",
    "- 전체 승객에 대하여 not alone인 경우 생존율과 사망율이 거의 비슷하다.\n",
    "- not alone인 승객에 대하여 여성의 생존율은 약 71.3% 이지만, 남성의 생존율은 약 27.1%이다.\n",
    "- 전체 승객에 대하여 alone인 경우 사망율이 생존율보다 두 배 이상 높다.\n",
    "- alone인 승객에 대하여 여성의 생존율은 약 78.6% 이지만, 남성의 생존율은 약 15.6%이다.\n",
    "- 즉, 여성의 경우 alone과 not alone에 크게 상관 없이 생존율이 높지만, 남성의 경우 둘 다 생존율이 낮지만, alone의 경우 크게 낮은 생존율을 보인다."
   ]
  },
  {
   "cell_type": "markdown",
   "metadata": {},
   "source": [
    "## 5. 선실등급과 나이에 따른 생존율 분석\n",
    "\n",
    "우선, 선실등급이 위에서 분석했던 티켓 등급인 pclass와 전부 같은 수치인지 비교를 해본다."
   ]
  },
  {
   "cell_type": "code",
   "execution_count": 134,
   "metadata": {},
   "outputs": [
    {
     "name": "stdout",
     "output_type": "stream",
     "text": [
      "pclass == class\n"
     ]
    }
   ],
   "source": [
    "n=0\n",
    "for i in titanic['pclass']:\n",
    "    if (i==1) & (titanic['class'][n]=='First'):\n",
    "        n=n+1\n",
    "    elif (i==2) & (titanic['class'][n]=='Second'):\n",
    "        n=n+1\n",
    "    elif (i==3) & (titanic['class'][n]=='Third'):\n",
    "        n=n+1\n",
    "    \n",
    "if n==891:\n",
    "    print(\"pclass == class\")"
   ]
  },
  {
   "cell_type": "markdown",
   "metadata": {},
   "source": [
    "pclass와 class가 같으므로 위에서 분석했던 pclass와 age를 통해 분석 가능하다.\n",
    "\n",
    "우리는 위의 분석을 통해 알 수 있는 분석 결과는 다음과 같다.\n",
    "- class가 높을수록 생존율이 높다.\n",
    "- 0-10세가 생존율이 가장 높다 \n",
    "- elder가 생존율이 가장 낮다.\n",
    "\n",
    "그렇다면 class별 나이 분포도를 분석하고 둘의 상관 관계를 파악해본다.\n",
    "\n",
    "class별 나이 분포도를 분석하면 다음과 같다."
   ]
  },
  {
   "cell_type": "code",
   "execution_count": 135,
   "metadata": {},
   "outputs": [
    {
     "data": {
      "text/plain": [
       "age    class \n",
       "0.0    First      0.336700\n",
       "       Second     1.907969\n",
       "       Third      4.713805\n",
       "10.0   First      2.020202\n",
       "       Second     2.020202\n",
       "       Third      7.407407\n",
       "20.0   First      3.815937\n",
       "       Second     5.948373\n",
       "       Third     14.927048\n",
       "30.0   First      5.611672\n",
       "       Second     5.387205\n",
       "       Third      7.744108\n",
       "40.0   First      4.152637\n",
       "       Second     2.020202\n",
       "       Third      3.815937\n",
       "50.0   First      3.030303\n",
       "       Second     1.683502\n",
       "       Third      0.673401\n",
       "elder  First      1.907969\n",
       "       Second     0.448934\n",
       "       Third      0.561167\n",
       "Name: survived, dtype: float64"
      ]
     },
     "execution_count": 135,
     "metadata": {},
     "output_type": "execute_result"
    }
   ],
   "source": [
    "titanic.groupby(['age','class'])['survived'].count()/891*100"
   ]
  },
  {
   "cell_type": "code",
   "execution_count": 136,
   "metadata": {},
   "outputs": [
    {
     "data": {
      "text/plain": [
       "<AxesSubplot:xlabel='class,age'>"
      ]
     },
     "execution_count": 136,
     "metadata": {},
     "output_type": "execute_result"
    },
    {
     "data": {
      "image/png": "[encoded data removed]",
      "text/plain": [
       "<Figure size 432x288 with 1 Axes>"
      ]
     },
     "metadata": {
      "needs_background": "light"
     },
     "output_type": "display_data"
    }
   ],
   "source": [
    "titanic.groupby(by=['class','age']).size().plot(kind='bar', rot=50)"
   ]
  },
  {
   "cell_type": "markdown",
   "metadata": {},
   "source": [
    "위의 자료들을 통해 알 수 있는 것은 다음과 같다.\n",
    "- 생존율이 가장 높았던 0-10세는 생존율이 가장 낮은 Third class에 가장 많은 비율로 분포되어 있다.\n",
    "- 생존율이 가장 낮았던 elder는 생존율이 가장 높은 First class에 가장 많은 비율로 분포되어 있다.\n"
   ]
  },
  {
   "cell_type": "markdown",
   "metadata": {},
   "source": [
    "class와 age에 대한 생존율 데이터는 다음과 같다."
   ]
  },
  {
   "cell_type": "code",
   "execution_count": 137,
   "metadata": {},
   "outputs": [
    {
     "data": {
      "text/plain": [
       "class   age    survived\n",
       "First   0.0    0            0.112233\n",
       "               1            0.224467\n",
       "        10.0   0            0.336700\n",
       "               1            1.683502\n",
       "        20.0   0            1.122334\n",
       "               1            2.693603\n",
       "        30.0   0            1.234568\n",
       "               1            4.377104\n",
       "        40.0   0            1.683502\n",
       "               1            2.469136\n",
       "        50.0   0            1.346801\n",
       "               1            1.683502\n",
       "        elder  0            1.346801\n",
       "               1            0.561167\n",
       "Second  0.0    0            0.000000\n",
       "               1            1.907969\n",
       "        10.0   0            1.010101\n",
       "               1            1.010101\n",
       "        20.0   0            3.479237\n",
       "               1            2.469136\n",
       "        30.0   0            3.254770\n",
       "               1            2.132435\n",
       "        40.0   0            0.897868\n",
       "               1            1.122334\n",
       "        50.0   0            1.122334\n",
       "               1            0.561167\n",
       "        elder  0            0.336700\n",
       "               1            0.112233\n",
       "Third   0.0    0            2.581369\n",
       "               1            2.132435\n",
       "        10.0   0            5.499439\n",
       "               1            1.907969\n",
       "        20.0   0           11.447811\n",
       "               1            3.479237\n",
       "        30.0   0            6.060606\n",
       "               1            1.683502\n",
       "        40.0   0            3.591470\n",
       "               1            0.224467\n",
       "        50.0   0            0.673401\n",
       "               1            0.000000\n",
       "        elder  0            0.448934\n",
       "               1            0.112233\n",
       "Name: survived, dtype: float64"
      ]
     },
     "execution_count": 137,
     "metadata": {},
     "output_type": "execute_result"
    }
   ],
   "source": [
    "class_age_survived_percent = titanic.groupby(['class','age','survived'])['survived'].count()/891*100\n",
    "class_age_survived_percent"
   ]
  },
  {
   "cell_type": "markdown",
   "metadata": {},
   "source": [
    "위의 데이터를 통해 다음과 같은 사실들을 알 수 있다.\n",
    "- 0-10세는 First class와 Second class에서 높은 생존율을 보인다. 하지만 Third class에서는 사망율이 0.4% 더 높다.\n",
    "- elder는 class에 상관없이 사망율이 생존율에 비해 두 배에서 세 배 높다.\n",
    "- First class에서 elder를 제외한 전 연령층은 생존율이 사망율 보다 높다.\n",
    "- Third class에서는 전 연령층은 사망율이 생존율 보다 높다."
   ]
  },
  {
   "cell_type": "code",
   "execution_count": null,
   "metadata": {},
   "outputs": [],
   "source": []
  }
 ],
 "metadata": {
  "kernelspec": {
   "display_name": "Python 3",
   "language": "python",
   "name": "python3"
  },
  "language_info": {
   "codemirror_mode": {
    "name": "ipython",
    "version": 3
   },
   "file_extension": ".py",
   "mimetype": "text/x-python",
   "name": "python",
   "nbconvert_exporter": "python",
   "pygments_lexer": "ipython3",
   "version": "3.8.3"
  }
 },
 "nbformat": 4,
 "nbformat_minor": 4
}
