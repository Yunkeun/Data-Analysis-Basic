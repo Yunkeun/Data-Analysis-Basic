{
  "nbformat": 4,
  "nbformat_minor": 0,
  "metadata": {
    "kernelspec": {
      "display_name": "Python 3",
      "language": "python",
      "name": "python3"
    },
    "language_info": {
      "codemirror_mode": {
        "name": "ipython",
        "version": 3
      },
      "file_extension": ".py",
      "mimetype": "text/x-python",
      "name": "python",
      "nbconvert_exporter": "python",
      "pygments_lexer": "ipython3",
      "version": "3.8.5"
    },
    "toc": {
      "base_numbering": 1,
      "nav_menu": {},
      "number_sections": true,
      "sideBar": true,
      "skip_h1_title": false,
      "title_cell": "Table of Contents",
      "title_sidebar": "Contents",
      "toc_cell": false,
      "toc_position": {},
      "toc_section_display": true,
      "toc_window_display": false
    },
    "colab": {
      "name": "[Team3] Project Code",
      "provenance": [],
      "collapsed_sections": []
    }
  },
  "cells": [
    {
      "cell_type": "markdown",
      "metadata": {
        "id": "NZLbOpk5j17v"
      },
      "source": [
        "# 2021 BISSIT TEAM PROJECT\n",
        "\n",
        "# TEXT SENTIMENT CLASSIFICATION \n",
        "\n",
        "**Team no.3**\n",
        "\n",
        "Jeong Young-Yun, Cho Yun Keun, Park Woo Seok"
      ]
    },
    {
      "cell_type": "code",
      "metadata": {
        "colab": {
          "base_uri": "https://localhost:8080/"
        },
        "id": "rWErU64aCcAv",
        "outputId": "16c86ba2-d67b-4f85-f96d-e17a7ecff627"
      },
      "source": [
        "!pip install pytreebank\n",
        "!pip install nltk"
      ],
      "execution_count": null,
      "outputs": [
        {
          "output_type": "stream",
          "text": [
            "Collecting pytreebank\n",
            "  Downloading pytreebank-0.2.7.tar.gz (34 kB)\n",
            "Building wheels for collected packages: pytreebank\n",
            "  Building wheel for pytreebank (setup.py) ... \u001b[?25l\u001b[?25hdone\n",
            "  Created wheel for pytreebank: filename=pytreebank-0.2.7-py3-none-any.whl size=37071 sha256=18de31d4ebd67ddac4bbc901c1b7d788fa3528b77ef342d6ace49fd76b322e80\n",
            "  Stored in directory: /root/.cache/pip/wheels/5b/84/1b/8fbd390149c4c56517bf3cb62bb25d3cf6f5cf575e66710ced\n",
            "Successfully built pytreebank\n",
            "Installing collected packages: pytreebank\n",
            "Successfully installed pytreebank-0.2.7\n",
            "Requirement already satisfied: nltk in /usr/local/lib/python3.7/dist-packages (3.2.5)\n",
            "Requirement already satisfied: six in /usr/local/lib/python3.7/dist-packages (from nltk) (1.15.0)\n"
          ],
          "name": "stdout"
        }
      ]
    },
    {
      "cell_type": "code",
      "metadata": {
        "id": "uURyvm7tA200",
        "colab": {
          "base_uri": "https://localhost:8080/"
        },
        "outputId": "bfd4f88a-0389-4040-be97-59056c4d9d68"
      },
      "source": [
        "import pytreebank\n",
        "import sys\n",
        "import os\n",
        "\n",
        "# Data frame\n",
        "import pandas as pd\n",
        "\n",
        "# Text pre-processing\n",
        "import re\n",
        "import nltk\n",
        "nltk.download('stopwords')\n",
        "from nltk.corpus import stopwords\n",
        "\n",
        "# Model training \n",
        "from sklearn.feature_extraction.text import CountVectorizer\n",
        "from sklearn.feature_extraction.text import TfidfTransformer\n",
        "from sklearn.linear_model import LogisticRegression\n",
        "from sklearn.metrics import accuracy_score, f1_score\n",
        "from sklearn.model_selection import train_test_split\n",
        "\n",
        "# The confusion matrix\n",
        "from sklearn.metrics import confusion_matrix\n",
        "import matplotlib.pyplot as plt\n",
        "import numpy as np"
      ],
      "execution_count": null,
      "outputs": [
        {
          "output_type": "stream",
          "text": [
            "[nltk_data] Downloading package stopwords to /root/nltk_data...\n",
            "[nltk_data]   Package stopwords is already up-to-date!\n"
          ],
          "name": "stdout"
        }
      ]
    },
    {
      "cell_type": "code",
      "metadata": {
        "id": "pzixuHOdA202"
      },
      "source": [
        "# Data load\n",
        "\n",
        "out_path = os.path.join(sys.path[0], 'sst_{}.txt')\n",
        "dataset = pytreebank.load_sst('./raw_data')\n",
        "\n",
        "# Store train, dev and test in separate files\n",
        "for category in ['train', 'test', 'dev']:\n",
        "    with open(out_path.format(category), 'w', encoding='UTF-8') as outfile:\n",
        "        for item in dataset[category]:\n",
        "            outfile.write(\"__label__{}\\t{}\\n\".format(\n",
        "                item.to_labeled_lines()[0][0] + 1,\n",
        "                item.to_labeled_lines()[0][1]\n",
        "            ))\n",
        "\n",
        "# Read data\n",
        "def data_read(file) :\n",
        "    df = pd.read_csv(f'./sst_{file}.txt', sep='\\t', header=None, names=['truth', 'text'])\n",
        "    df['truth'] = df['truth'].str.replace('__label__', '')\n",
        "    df['truth'] = df['truth'].astype(int).astype('category')\n",
        "    return df"
      ],
      "execution_count": null,
      "outputs": []
    },
    {
      "cell_type": "code",
      "metadata": {
        "scrolled": false,
        "id": "ypsfq6iQA203"
      },
      "source": [
        "# Text pre-processing\n",
        "\n",
        "def text_cleaning(data):\n",
        "    # non-alphabetic character is converted to a space \n",
        "    only_english = re.sub('[^a-zA-Z]', ' ', data)\n",
        " \n",
        "    # capital letter is converted to a lowercase character    \n",
        "    no_capitals = only_english.lower().split()\n",
        " \n",
        "    # use stopwords modules to remove the terminology - the, a, ...\n",
        "    stops = set(stopwords.words('english'))\n",
        "    no_stops = [word for word in no_capitals if not word in stops]\n",
        " \n",
        "    # use the nltk module to perform stemming\n",
        "    stemmer = nltk.stem.SnowballStemmer('english')\n",
        "    stemmer_words = [stemmer.stem(word) for word in no_stops] \n",
        " \n",
        "    # return result list\n",
        "    return stemmer_words\n",
        "\n",
        "def data_preprocessing(df) : \n",
        "    # count word & Vectorization\n",
        "    vect = CountVectorizer(tokenizer = lambda x: text_cleaning(x)) \n",
        "    bow_vect = vect.fit_transform(df['text'].tolist()) \n",
        "\n",
        "    # TF-IDF (Term-frequency Inverse document frequency)\n",
        "    # to scale down the impact of tokens that occur very frequently in a given corpus and that are hence empirically less informative \n",
        "    tfidf_vectorizer = TfidfTransformer()\n",
        "    tf_idf_vect = tfidf_vectorizer.fit_transform(bow_vect)\n",
        "    \n",
        "    return tf_idf_vect, df['truth']"
      ],
      "execution_count": null,
      "outputs": []
    },
    {
      "cell_type": "code",
      "metadata": {
        "id": "giCOjWS_A204"
      },
      "source": [
        "# Result : Matrix & Accuracy & F1 score\n",
        "# For the code that visualizes the matrix, see the tutorial.\n",
        "def plot_confusion_matrix(y_true, y_pred, \n",
        "                          classes=[1, 2, 3, 4, 5],\n",
        "                          normalize=False,\n",
        "                          cmap=plt.cm.YlOrBr):\n",
        "    \"\"\"\n",
        "    This function prints and plots the confusion matrix.\n",
        "    Normalization can be applied by setting `normalize=True`.\n",
        "    (Adapted from scikit-learn docs).\n",
        "    \"\"\"\n",
        "    # Compute confusion matrix\n",
        "    cm = confusion_matrix(y_true, y_pred)\n",
        "\n",
        "    if normalize:\n",
        "        cm = cm.astype('float') / cm.sum(axis=1)[:, np.newaxis]\n",
        "\n",
        "    fig, ax = plt.subplots()\n",
        "    im = ax.imshow(cm, interpolation='nearest', origin='lower', cmap=cmap)\n",
        "    ax.figure.colorbar(im, ax=ax)\n",
        "    # Show all ticks\n",
        "    ax.set(xticks=np.arange(cm.shape[1]),\n",
        "           yticks=np.arange(cm.shape[0]),\n",
        "           # Label with respective list entries\n",
        "           xticklabels=classes, yticklabels=classes,\n",
        "           ylabel='True label',\n",
        "           xlabel='Predicted label')\n",
        "\n",
        "    # Set alignment of tick labels\n",
        "    plt.setp(ax.get_xticklabels(), rotation=0, ha=\"right\",\n",
        "             rotation_mode=\"anchor\")\n",
        "\n",
        "    # Loop over data dimensions and create text annotations\n",
        "    fmt = '.2f' if normalize else 'd'\n",
        "    thresh = cm.max() / 2.\n",
        "    for i in range(cm.shape[0]):\n",
        "        for j in range(cm.shape[1]):\n",
        "            ax.text(j, i, format(cm[i, j], fmt),\n",
        "                    ha=\"center\", va=\"center\",\n",
        "                    color=\"white\" if cm[i, j] > thresh else \"black\")\n",
        "    return fig, ax\n",
        "\n",
        "def print_result(y_test, y_pred) :\n",
        "    print('accuracy: %.2f' % accuracy_score(y_test, y_pred))\n",
        "    print('F1: %.2f' % f1_score(y_test, y_pred, average='macro'))\n",
        "    plot_confusion_matrix(y_test, y_pred)"
      ],
      "execution_count": null,
      "outputs": []
    },
    {
      "cell_type": "code",
      "metadata": {
        "id": "1QV5ANUaA205",
        "colab": {
          "base_uri": "https://localhost:8080/"
        },
        "outputId": "fb23b48f-d659-4350-c019-43afbcbe4dae"
      },
      "source": [
        "# Training setup\n",
        "\n",
        "df_train = data_read('train') \n",
        "df_test = data_read('test') \n",
        "\n",
        "df_total = pd.concat([df_train, df_test])\n",
        "\n",
        "x, y = data_preprocessing(df_total) # x = TF-IDF, y = Score[1-5]\n",
        "x_train, x_test, y_train, y_test = train_test_split(x, y, test_size = 0.3, random_state=1)\n",
        "\n",
        "# Training the model\n",
        "\n",
        "model = LogisticRegression(solver='liblinear', multi_class='auto')\n",
        "model.fit(x_train, y_train)"
      ],
      "execution_count": null,
      "outputs": [
        {
          "output_type": "execute_result",
          "data": {
            "text/plain": [
              "LogisticRegression(C=1.0, class_weight=None, dual=False, fit_intercept=True,\n",
              "                   intercept_scaling=1, l1_ratio=None, max_iter=100,\n",
              "                   multi_class='auto', n_jobs=None, penalty='l2',\n",
              "                   random_state=None, solver='liblinear', tol=0.0001, verbose=0,\n",
              "                   warm_start=False)"
            ]
          },
          "metadata": {
            "tags": []
          },
          "execution_count": 16
        }
      ]
    },
    {
      "cell_type": "code",
      "metadata": {
        "scrolled": false,
        "id": "HukWc98VA206",
        "colab": {
          "base_uri": "https://localhost:8080/",
          "height": 317
        },
        "outputId": "e82adc1f-124b-464b-c5a0-d136e8f6c93c"
      },
      "source": [
        "# Classification prediction\n",
        "y_pred = model.predict(x_test)\n",
        "\n",
        "# Result\n",
        "print_result(y_test, y_pred)"
      ],
      "execution_count": null,
      "outputs": [
        {
          "output_type": "stream",
          "text": [
            "accuracy: 0.40\n",
            "F1: 0.33\n"
          ],
          "name": "stdout"
        },
        {
          "output_type": "display_data",
          "data": {
            "image/png": "[encoded data removed]",
            "text/plain": [
              "<Figure size 432x288 with 2 Axes>"
            ]
          },
          "metadata": {
            "tags": [],
            "needs_background": "light"
          }
        }
      ]
    },
    {
      "cell_type": "code",
      "metadata": {
        "scrolled": true,
        "id": "ZRwEUjH5A207",
        "colab": {
          "base_uri": "https://localhost:8080/"
        },
        "outputId": "86cf1f0f-faaa-4b18-e439-045f0e33b040"
      },
      "source": [
        "df_train['truth'].value_counts()\n",
        "\n",
        "# Different data rates, not balanced in accuracy."
      ],
      "execution_count": null,
      "outputs": [
        {
          "output_type": "execute_result",
          "data": {
            "text/plain": [
              "4    2322\n",
              "2    2218\n",
              "3    1624\n",
              "5    1288\n",
              "1    1092\n",
              "Name: truth, dtype: int64"
            ]
          },
          "metadata": {
            "tags": []
          },
          "execution_count": 18
        }
      ]
    },
    {
      "cell_type": "code",
      "metadata": {
        "id": "og1N_k3IA208"
      },
      "source": [
        "# Distribute the data in categories equally by 1000\n",
        "\n",
        "df = df_train\n",
        "one_idx = df[df['truth']==1].sample(1000, random_state=12).index.tolist()\n",
        "two_idx = df[df['truth']==2].sample(1000, random_state=12).index.tolist()\n",
        "three_idx = df[df['truth']==3].sample(1000, random_state=12).index.tolist()\n",
        "four_idx = df[df['truth']==4].sample(1000, random_state=12).index.tolist()\n",
        "five_idx = df[df['truth']==5].sample(1000, random_state=12).index.tolist()\n",
        "\n",
        "random_idx = one_idx + two_idx + three_idx + four_idx + five_idx\n",
        "x = x[random_idx]\n",
        "y = df['truth'][random_idx]\n",
        "x_train, x_test, y_train, y_test = train_test_split(x, y, test_size=0.3, random_state=1)"
      ],
      "execution_count": null,
      "outputs": []
    },
    {
      "cell_type": "code",
      "metadata": {
        "scrolled": true,
        "id": "cLlFX1OeA209",
        "colab": {
          "base_uri": "https://localhost:8080/",
          "height": 317
        },
        "outputId": "9e9a73d9-f333-405c-8315-c636586e4af6"
      },
      "source": [
        "# Model re-training\n",
        "\n",
        "model2 = LogisticRegression(solver='liblinear', multi_class='auto')\n",
        "model2.fit(x_train, y_train)\n",
        "\n",
        "y_pred2 = model2.predict(x_test)\n",
        "print_result(y_test, y_pred2)"
      ],
      "execution_count": null,
      "outputs": [
        {
          "output_type": "stream",
          "text": [
            "accuracy: 0.37\n",
            "F1: 0.37\n"
          ],
          "name": "stdout"
        },
        {
          "output_type": "display_data",
          "data": {
            "image/png": "[encoded data removed]",
            "text/plain": [
              "<Figure size 432x288 with 2 Axes>"
            ]
          },
          "metadata": {
            "tags": [],
            "needs_background": "light"
          }
        }
      ]
    }
  ]
}